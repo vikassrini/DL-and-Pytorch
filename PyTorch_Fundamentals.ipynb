{
  "nbformat": 4,
  "nbformat_minor": 0,
  "metadata": {
    "colab": {
      "provenance": [],
      "gpuType": "T4",
      "toc_visible": true
    },
    "kernelspec": {
      "name": "python3",
      "display_name": "Python 3"
    },
    "language_info": {
      "name": "python"
    },
    "accelerator": "GPU"
  },
  "cells": [
    {
      "cell_type": "code",
      "execution_count": null,
      "metadata": {
        "colab": {
          "base_uri": "https://localhost:8080/"
        },
        "id": "AfkKOk6xjFdC",
        "outputId": "975e505a-2961-4219-e262-1942f89fc5f7"
      },
      "outputs": [
        {
          "output_type": "stream",
          "name": "stdout",
          "text": [
            "2.4.1+cu121\n"
          ]
        }
      ],
      "source": [
        "import torch\n",
        "import pandas as pd\n",
        "import numpy as np\n",
        "import matplotlib.pyplot as plt\n",
        "print(torch.__version__)"
      ]
    },
    {
      "cell_type": "markdown",
      "source": [
        "## Introduction to tensors\n",
        "\n",
        "### Creating Tensors\n",
        "\n",
        "PyTorch Tensors are created using `torch.Tensor()`"
      ],
      "metadata": {
        "id": "1eY2inx3qN4j"
      }
    },
    {
      "cell_type": "code",
      "source": [
        "#Scalar\n",
        "\n",
        "# A scalar is a single number and in tensor-speak it's a zero dimension tensor.\n",
        "\n",
        "scalar = torch.tensor(7)\n",
        "print(scalar)"
      ],
      "metadata": {
        "colab": {
          "base_uri": "https://localhost:8080/"
        },
        "id": "1hSjsV9EqTb3",
        "outputId": "6e3c45f0-205b-4408-fe5e-8dc673e97bb6"
      },
      "execution_count": null,
      "outputs": [
        {
          "output_type": "stream",
          "name": "stdout",
          "text": [
            "tensor(7)\n"
          ]
        }
      ]
    },
    {
      "cell_type": "code",
      "source": [
        "# We can check the dimensions of a tensor using the ndim attribute.\n",
        "scalar.ndim"
      ],
      "metadata": {
        "colab": {
          "base_uri": "https://localhost:8080/"
        },
        "id": "vYkeqFZEq2qV",
        "outputId": "29113dc7-6219-4633-d2a7-5e599f56d3de"
      },
      "execution_count": null,
      "outputs": [
        {
          "output_type": "execute_result",
          "data": {
            "text/plain": [
              "0"
            ]
          },
          "metadata": {},
          "execution_count": 51
        }
      ]
    },
    {
      "cell_type": "code",
      "source": [
        "# Get scalar back as python int\n",
        "scalar.item()"
      ],
      "metadata": {
        "colab": {
          "base_uri": "https://localhost:8080/"
        },
        "id": "G1h1K8hmreh7",
        "outputId": "f3b70704-2643-4d8d-937b-d0396c20090b"
      },
      "execution_count": null,
      "outputs": [
        {
          "output_type": "execute_result",
          "data": {
            "text/plain": [
              "7"
            ]
          },
          "metadata": {},
          "execution_count": 52
        }
      ]
    },
    {
      "cell_type": "code",
      "source": [
        "# Vector\n",
        "# A vector is a single dimension tensor but can contain many numbers.\n",
        "vector = torch.tensor([7, 7])\n",
        "vector"
      ],
      "metadata": {
        "colab": {
          "base_uri": "https://localhost:8080/"
        },
        "id": "PgQNG5qmrksy",
        "outputId": "dec53a27-6ae9-4973-e0f2-24475062ef0a"
      },
      "execution_count": null,
      "outputs": [
        {
          "output_type": "execute_result",
          "data": {
            "text/plain": [
              "tensor([7, 7])"
            ]
          },
          "metadata": {},
          "execution_count": 53
        }
      ]
    },
    {
      "cell_type": "code",
      "source": [
        "vector.ndim"
      ],
      "metadata": {
        "colab": {
          "base_uri": "https://localhost:8080/"
        },
        "id": "P8JkbSYWrumf",
        "outputId": "95967c3e-cab6-4989-8281-a08e38426968"
      },
      "execution_count": null,
      "outputs": [
        {
          "output_type": "execute_result",
          "data": {
            "text/plain": [
              "1"
            ]
          },
          "metadata": {},
          "execution_count": 54
        }
      ]
    },
    {
      "cell_type": "code",
      "source": [
        "vector.shape"
      ],
      "metadata": {
        "colab": {
          "base_uri": "https://localhost:8080/"
        },
        "id": "MkVFNZ-Rrv-n",
        "outputId": "93e798f0-48a3-4f74-fe70-c1499a1334f8"
      },
      "execution_count": null,
      "outputs": [
        {
          "output_type": "execute_result",
          "data": {
            "text/plain": [
              "torch.Size([2])"
            ]
          },
          "metadata": {},
          "execution_count": 55
        }
      ]
    },
    {
      "cell_type": "markdown",
      "source": [
        "The above returns torch.Size([2]) which means our vector has a shape of [2]. This is because of the two elements we placed inside the square brackets ([7, 7])."
      ],
      "metadata": {
        "id": "h6vGVLvOuChw"
      }
    },
    {
      "cell_type": "code",
      "source": [
        "# Matrix\n",
        "# MATRIX has two dimensions\n",
        "MATRIX = torch.tensor([[7,8],\n",
        "                       [9, 10]])\n",
        "MATRIX"
      ],
      "metadata": {
        "colab": {
          "base_uri": "https://localhost:8080/"
        },
        "id": "NH5NUwAKrxHn",
        "outputId": "a677f324-6173-4166-e7ea-e5741270025f"
      },
      "execution_count": null,
      "outputs": [
        {
          "output_type": "execute_result",
          "data": {
            "text/plain": [
              "tensor([[ 7,  8],\n",
              "        [ 9, 10]])"
            ]
          },
          "metadata": {},
          "execution_count": 56
        }
      ]
    },
    {
      "cell_type": "code",
      "source": [
        "MATRIX.ndim"
      ],
      "metadata": {
        "colab": {
          "base_uri": "https://localhost:8080/"
        },
        "id": "NaK21O5Er7Ay",
        "outputId": "9485df33-6e05-45de-e68e-db221c1db458"
      },
      "execution_count": null,
      "outputs": [
        {
          "output_type": "execute_result",
          "data": {
            "text/plain": [
              "2"
            ]
          },
          "metadata": {},
          "execution_count": 57
        }
      ]
    },
    {
      "cell_type": "code",
      "source": [
        "MATRIX[0]"
      ],
      "metadata": {
        "colab": {
          "base_uri": "https://localhost:8080/"
        },
        "id": "DwDyIJZ8sF0i",
        "outputId": "eb22d297-720e-497c-f420-ca167c096199"
      },
      "execution_count": null,
      "outputs": [
        {
          "output_type": "execute_result",
          "data": {
            "text/plain": [
              "tensor([7, 8])"
            ]
          },
          "metadata": {},
          "execution_count": 58
        }
      ]
    },
    {
      "cell_type": "code",
      "source": [
        "MATRIX[1]"
      ],
      "metadata": {
        "colab": {
          "base_uri": "https://localhost:8080/"
        },
        "id": "zLplWM0qsARy",
        "outputId": "0271086c-6ec6-423e-9d60-b25a28c068ab"
      },
      "execution_count": null,
      "outputs": [
        {
          "output_type": "execute_result",
          "data": {
            "text/plain": [
              "tensor([ 9, 10])"
            ]
          },
          "metadata": {},
          "execution_count": 59
        }
      ]
    },
    {
      "cell_type": "code",
      "source": [
        "MATRIX.shape"
      ],
      "metadata": {
        "colab": {
          "base_uri": "https://localhost:8080/"
        },
        "id": "jeDg1tD0sHvz",
        "outputId": "fe2f43e1-b0e0-4561-9638-c7247222c1c9"
      },
      "execution_count": null,
      "outputs": [
        {
          "output_type": "execute_result",
          "data": {
            "text/plain": [
              "torch.Size([2, 2])"
            ]
          },
          "metadata": {},
          "execution_count": 60
        }
      ]
    },
    {
      "cell_type": "code",
      "source": [
        "# TENSOR\n",
        "\n",
        "TENSOR = torch.tensor([[[1,2,3],\n",
        "                        [3,6,9],\n",
        "                        [2,4,5]]])\n",
        "TENSOR"
      ],
      "metadata": {
        "colab": {
          "base_uri": "https://localhost:8080/"
        },
        "id": "Ph6BSb5osMak",
        "outputId": "64c08d13-532a-4a31-e3aa-20369e157108"
      },
      "execution_count": null,
      "outputs": [
        {
          "output_type": "execute_result",
          "data": {
            "text/plain": [
              "tensor([[[1, 2, 3],\n",
              "         [3, 6, 9],\n",
              "         [2, 4, 5]]])"
            ]
          },
          "metadata": {},
          "execution_count": 61
        }
      ]
    },
    {
      "cell_type": "code",
      "source": [
        "TENSOR.shape"
      ],
      "metadata": {
        "colab": {
          "base_uri": "https://localhost:8080/"
        },
        "id": "waRXcDQ7siPg",
        "outputId": "db11e57a-6e03-4198-b2fb-7005beff09ea"
      },
      "execution_count": null,
      "outputs": [
        {
          "output_type": "execute_result",
          "data": {
            "text/plain": [
              "torch.Size([1, 3, 3])"
            ]
          },
          "metadata": {},
          "execution_count": 62
        }
      ]
    },
    {
      "cell_type": "markdown",
      "source": [
        "\n",
        "Alright, it outputs torch.Size([1, 3, 3]).\n",
        "\n",
        "The dimensions go outer to inner."
      ],
      "metadata": {
        "id": "xi-AocYmuWbr"
      }
    },
    {
      "cell_type": "code",
      "source": [
        "TENSOR.ndim"
      ],
      "metadata": {
        "colab": {
          "base_uri": "https://localhost:8080/"
        },
        "id": "mtO_SKnuskw_",
        "outputId": "725440c2-adb8-4fed-f769-f8f2077359bb"
      },
      "execution_count": null,
      "outputs": [
        {
          "output_type": "execute_result",
          "data": {
            "text/plain": [
              "3"
            ]
          },
          "metadata": {},
          "execution_count": 63
        }
      ]
    },
    {
      "cell_type": "markdown",
      "source": [
        "![image.png](data:image/png;base64,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)"
      ],
      "metadata": {
        "id": "qfeAAjO9uc1t"
      }
    },
    {
      "cell_type": "markdown",
      "source": [
        "## Summary\n",
        "\n",
        "Image denotes the different ways in which a tensor can be created.\n",
        "\n",
        "![image.png](data:image/png;base64,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)\n",
        "\n",
        "**Note**: You might've noticed me using lowercase letters for scalar and vector and uppercase letters for MATRIX and TENSOR. This was on purpose. In practice, you'll often see scalars and vectors denoted as lowercase letters such as y or a. And matrices and tensors denoted as uppercase letters such as X or W.\n",
        "\n",
        "You also might notice the names martrix and tensor used interchangably. This is common. Since in PyTorch you're often dealing with torch.Tensors (hence the tensor name), however, the shape and dimensions of what's inside will dictate what it actually is"
      ],
      "metadata": {
        "id": "_tNJGneCthYY"
      }
    },
    {
      "cell_type": "markdown",
      "source": [
        "## Random Tensors"
      ],
      "metadata": {
        "id": "3_TqYeSMVea5"
      }
    },
    {
      "cell_type": "markdown",
      "source": [
        "Instead, a machine learning model often starts out with large random tensors of numbers and adjusts these random numbers as it works through data to better represent it.\n",
        "For now, let's see how to create a tensor of random numbers.\n",
        "\n",
        "We can do so using `torch.rand()` and passing in the size parameter."
      ],
      "metadata": {
        "id": "xPcikPreiktb"
      }
    },
    {
      "cell_type": "code",
      "source": [
        "#Create a random tensor of size (3,4)\n",
        "random_tensor = torch.rand(3,4)\n",
        "random_tensor"
      ],
      "metadata": {
        "id": "cf1FOTs5soYI",
        "colab": {
          "base_uri": "https://localhost:8080/"
        },
        "outputId": "4b3f0c52-4ef3-4db8-bcad-b38c896427c1"
      },
      "execution_count": null,
      "outputs": [
        {
          "output_type": "execute_result",
          "data": {
            "text/plain": [
              "tensor([[0.5861, 0.7365, 0.2170, 0.6037],\n",
              "        [0.3266, 0.2839, 0.9989, 0.7535],\n",
              "        [0.7245, 0.4238, 0.1904, 0.1149]])"
            ]
          },
          "metadata": {},
          "execution_count": 64
        }
      ]
    },
    {
      "cell_type": "code",
      "source": [
        "random_tensor.ndim"
      ],
      "metadata": {
        "colab": {
          "base_uri": "https://localhost:8080/"
        },
        "id": "9WkCECw7i5Ju",
        "outputId": "81cd9bf8-ff50-4f7c-8616-b9dc5c6ba9eb"
      },
      "execution_count": null,
      "outputs": [
        {
          "output_type": "execute_result",
          "data": {
            "text/plain": [
              "2"
            ]
          },
          "metadata": {},
          "execution_count": 65
        }
      ]
    },
    {
      "cell_type": "code",
      "source": [
        "#Create a random tensor of size (5, 3,4)\n",
        "random_tensor = torch.rand(5, 3, 4)\n",
        "random_tensor"
      ],
      "metadata": {
        "colab": {
          "base_uri": "https://localhost:8080/"
        },
        "id": "dU7k0lxojGyK",
        "outputId": "e23706b9-970a-40a5-cc3a-f66af4a02cdd"
      },
      "execution_count": null,
      "outputs": [
        {
          "output_type": "execute_result",
          "data": {
            "text/plain": [
              "tensor([[[0.2486, 0.8174, 0.6325, 0.5766],\n",
              "         [0.7216, 0.7896, 0.9748, 0.8085],\n",
              "         [0.5649, 0.4459, 0.3451, 0.8004]],\n",
              "\n",
              "        [[0.4425, 0.6976, 0.0376, 0.1095],\n",
              "         [0.9900, 0.8575, 0.1985, 0.9427],\n",
              "         [0.6330, 0.8939, 0.6315, 0.1961]],\n",
              "\n",
              "        [[0.6322, 0.6566, 0.6409, 0.6277],\n",
              "         [0.8307, 0.1457, 0.3693, 0.8482],\n",
              "         [0.0168, 0.0543, 0.3852, 0.7698]],\n",
              "\n",
              "        [[0.4431, 0.1993, 0.0868, 0.9872],\n",
              "         [0.0499, 0.9828, 0.5582, 0.7924],\n",
              "         [0.8262, 0.4937, 0.4025, 0.9277]],\n",
              "\n",
              "        [[0.2698, 0.5713, 0.3355, 0.0981],\n",
              "         [0.6849, 0.7538, 0.2429, 0.0317],\n",
              "         [0.3548, 0.0768, 0.8976, 0.8061]]])"
            ]
          },
          "metadata": {},
          "execution_count": 66
        }
      ]
    },
    {
      "cell_type": "code",
      "source": [
        "random_tensor.ndim"
      ],
      "metadata": {
        "colab": {
          "base_uri": "https://localhost:8080/"
        },
        "id": "uyIRqRSajJ92",
        "outputId": "a39bdb99-00f0-44c9-fe51-52a92fdb10e2"
      },
      "execution_count": null,
      "outputs": [
        {
          "output_type": "execute_result",
          "data": {
            "text/plain": [
              "3"
            ]
          },
          "metadata": {},
          "execution_count": 67
        }
      ]
    },
    {
      "cell_type": "code",
      "source": [
        "random_tensor.shape"
      ],
      "metadata": {
        "colab": {
          "base_uri": "https://localhost:8080/"
        },
        "id": "mIz_c4tKjPHR",
        "outputId": "27446d38-f50f-4657-b821-effb8b8cf274"
      },
      "execution_count": null,
      "outputs": [
        {
          "output_type": "execute_result",
          "data": {
            "text/plain": [
              "torch.Size([5, 3, 4])"
            ]
          },
          "metadata": {},
          "execution_count": 68
        }
      ]
    },
    {
      "cell_type": "markdown",
      "source": [
        "The flexibility of torch.rand() is that we can adjust the size to be whatever we want.\n",
        "\n",
        "For example, say you wanted a random tensor in the common image shape of [224, 224, 3] ([height, width, color_channels])."
      ],
      "metadata": {
        "id": "i-2QTaMFj4Ou"
      }
    },
    {
      "cell_type": "code",
      "source": [
        "# Create a random tensor with similar shape to an image tensor\n",
        "random_tensor = torch.rand(size=(3,4,3)) # height, width , color channel(R, G, B)\n",
        "random_tensor.ndim, random_tensor.shape\n",
        "# keyword - size is optional , even if it's mentioned then it's considered by default"
      ],
      "metadata": {
        "colab": {
          "base_uri": "https://localhost:8080/"
        },
        "id": "vBh091WIjQcp",
        "outputId": "eb2c8b3e-07ac-42f3-a50c-1001101eb2c3"
      },
      "execution_count": null,
      "outputs": [
        {
          "output_type": "execute_result",
          "data": {
            "text/plain": [
              "(3, torch.Size([3, 4, 3]))"
            ]
          },
          "metadata": {},
          "execution_count": 69
        }
      ]
    },
    {
      "cell_type": "markdown",
      "source": [
        "## Zeros and Ones"
      ],
      "metadata": {
        "id": "SyLB46SWkKi3"
      }
    },
    {
      "cell_type": "code",
      "source": [
        "# Create a tensor of all zeros\n",
        "\n",
        "zeros = torch.zeros(size=(3,4))\n",
        "zeros"
      ],
      "metadata": {
        "colab": {
          "base_uri": "https://localhost:8080/"
        },
        "id": "7ZqC_tmxjoon",
        "outputId": "8e4976b7-36ec-4117-f216-99ce7cdd07e4"
      },
      "execution_count": null,
      "outputs": [
        {
          "output_type": "execute_result",
          "data": {
            "text/plain": [
              "tensor([[0., 0., 0., 0.],\n",
              "        [0., 0., 0., 0.],\n",
              "        [0., 0., 0., 0.]])"
            ]
          },
          "metadata": {},
          "execution_count": 70
        }
      ]
    },
    {
      "cell_type": "code",
      "source": [
        "# Create a tensor of all zeros\n",
        "\n",
        "ones = torch.ones(size=(3,4))\n",
        "ones"
      ],
      "metadata": {
        "colab": {
          "base_uri": "https://localhost:8080/"
        },
        "id": "oRGiY9ECkUIM",
        "outputId": "915ccd49-8e23-49b7-b8e0-86dfdeb783bb"
      },
      "execution_count": null,
      "outputs": [
        {
          "output_type": "execute_result",
          "data": {
            "text/plain": [
              "tensor([[1., 1., 1., 1.],\n",
              "        [1., 1., 1., 1.],\n",
              "        [1., 1., 1., 1.]])"
            ]
          },
          "metadata": {},
          "execution_count": 71
        }
      ]
    },
    {
      "cell_type": "code",
      "source": [
        "ones.dtype"
      ],
      "metadata": {
        "colab": {
          "base_uri": "https://localhost:8080/"
        },
        "id": "dh_pqeFnkZq9",
        "outputId": "8485df4c-2174-4fb4-93bc-b1957e7d876e"
      },
      "execution_count": null,
      "outputs": [
        {
          "output_type": "execute_result",
          "data": {
            "text/plain": [
              "torch.float32"
            ]
          },
          "metadata": {},
          "execution_count": 72
        }
      ]
    },
    {
      "cell_type": "markdown",
      "source": [
        "## Creating a range of tensors and tensors-like"
      ],
      "metadata": {
        "id": "GmlvofJ8kcyk"
      }
    },
    {
      "cell_type": "code",
      "source": [
        "torch.range(0, 10)\n",
        "\n",
        "# torch.range() is depricated so use arange method instead"
      ],
      "metadata": {
        "colab": {
          "base_uri": "https://localhost:8080/"
        },
        "id": "czycJw7GkbLH",
        "outputId": "14d132dc-2e86-4fa1-faf9-dedd949c3070"
      },
      "execution_count": null,
      "outputs": [
        {
          "output_type": "stream",
          "name": "stderr",
          "text": [
            "<ipython-input-73-55ee289b4609>:1: UserWarning: torch.range is deprecated and will be removed in a future release because its behavior is inconsistent with Python's range builtin. Instead, use torch.arange, which produces values in [start, end).\n",
            "  torch.range(0, 10)\n"
          ]
        },
        {
          "output_type": "execute_result",
          "data": {
            "text/plain": [
              "tensor([ 0.,  1.,  2.,  3.,  4.,  5.,  6.,  7.,  8.,  9., 10.])"
            ]
          },
          "metadata": {},
          "execution_count": 73
        }
      ]
    },
    {
      "cell_type": "code",
      "source": [
        "one_to_ten=torch.arange(start=1, end=11, step=1)"
      ],
      "metadata": {
        "id": "NtCypf08klqJ"
      },
      "execution_count": null,
      "outputs": []
    },
    {
      "cell_type": "code",
      "source": [
        "# Creating tensors like , this can be used to create a tensor like another tensor\n",
        "ten_zeros = torch.zeros_like(one_to_ten)\n",
        "ten_zeros"
      ],
      "metadata": {
        "colab": {
          "base_uri": "https://localhost:8080/"
        },
        "id": "okVcZ0ptko03",
        "outputId": "8b03fb9b-9ee0-4a6b-e182-c3a929588135"
      },
      "execution_count": null,
      "outputs": [
        {
          "output_type": "execute_result",
          "data": {
            "text/plain": [
              "tensor([0, 0, 0, 0, 0, 0, 0, 0, 0, 0])"
            ]
          },
          "metadata": {},
          "execution_count": 75
        }
      ]
    },
    {
      "cell_type": "markdown",
      "source": [
        "## Tensor Datatypes\n",
        "\n",
        "**Note:** Tensor Datatypes is one of the 3 big errors you'll run into with PyTorch\n",
        "1. Tensors not right datatype\n",
        "2. Tensors not right shape. For ex: if two tensors of uncompatible shapes are multiplies\n",
        "3. Tensors noton the right device"
      ],
      "metadata": {
        "id": "Mmrg21RplgJC"
      }
    },
    {
      "cell_type": "code",
      "source": [
        "# Float 32 tensor\n",
        "float_32_tensor = torch.tensor([3.0, 6.0, 9.0],\n",
        "                               dtype=None, # What datatype is the tensor ( e.g. float 32 or float16 )\n",
        "                               device = None, # What device is your tensor on\n",
        "                               requires_grad=False) # Whether or not to track gradients with this tensors operations.\n",
        "float_32_tensor"
      ],
      "metadata": {
        "colab": {
          "base_uri": "https://localhost:8080/"
        },
        "id": "8sb1WEmflH6p",
        "outputId": "3935aca4-7012-4f96-8dff-65779e193921"
      },
      "execution_count": null,
      "outputs": [
        {
          "output_type": "execute_result",
          "data": {
            "text/plain": [
              "tensor([3., 6., 9.])"
            ]
          },
          "metadata": {},
          "execution_count": 76
        }
      ]
    },
    {
      "cell_type": "code",
      "source": [
        "float_32_tensor.dtype"
      ],
      "metadata": {
        "colab": {
          "base_uri": "https://localhost:8080/"
        },
        "id": "L7iP6ulrlwV7",
        "outputId": "ff7d4608-560d-4061-b4b8-9951deb0e3d6"
      },
      "execution_count": null,
      "outputs": [
        {
          "output_type": "execute_result",
          "data": {
            "text/plain": [
              "torch.float32"
            ]
          },
          "metadata": {},
          "execution_count": 77
        }
      ]
    },
    {
      "cell_type": "markdown",
      "source": [
        "Even though the datatype was set to None , we obtain the data type for the same tensore to be float 32, this is because it's the default data type for a PyTorch tensor."
      ],
      "metadata": {
        "id": "5Fg1h4R-l1el"
      }
    },
    {
      "cell_type": "code",
      "source": [
        "float_16_tensor = float_32_tensor.type(torch.float16)\n",
        "float_16_tensor"
      ],
      "metadata": {
        "colab": {
          "base_uri": "https://localhost:8080/"
        },
        "id": "rrMFE8Rlly5y",
        "outputId": "38c0128d-51a3-46c8-b21e-a3cb07ed662e"
      },
      "execution_count": null,
      "outputs": [
        {
          "output_type": "execute_result",
          "data": {
            "text/plain": [
              "tensor([3., 6., 9.], dtype=torch.float16)"
            ]
          },
          "metadata": {},
          "execution_count": 78
        }
      ]
    },
    {
      "cell_type": "code",
      "source": [
        "float_16_tensor = float_32_tensor.type(torch.half)\n",
        "float_16_tensor"
      ],
      "metadata": {
        "colab": {
          "base_uri": "https://localhost:8080/"
        },
        "id": "8WBDfm_HnnRj",
        "outputId": "3a05a2ff-b1c0-4549-8c77-e994b953b452"
      },
      "execution_count": null,
      "outputs": [
        {
          "output_type": "execute_result",
          "data": {
            "text/plain": [
              "tensor([3., 6., 9.], dtype=torch.float16)"
            ]
          },
          "metadata": {},
          "execution_count": 79
        }
      ]
    },
    {
      "cell_type": "code",
      "source": [
        "int_32_tensor = torch.tensor([3,6,9], dtype=torch.int32)\n",
        "int_32_tensor"
      ],
      "metadata": {
        "id": "WCNDXW7ZnsYn",
        "colab": {
          "base_uri": "https://localhost:8080/"
        },
        "outputId": "b1310b38-b5df-4ed8-ad50-109b56892f11"
      },
      "execution_count": null,
      "outputs": [
        {
          "output_type": "execute_result",
          "data": {
            "text/plain": [
              "tensor([3, 6, 9], dtype=torch.int32)"
            ]
          },
          "metadata": {},
          "execution_count": 80
        }
      ]
    },
    {
      "cell_type": "code",
      "source": [
        "float_32_tensor * int_32_tensor #there was no error here but it can occur, just be careful"
      ],
      "metadata": {
        "colab": {
          "base_uri": "https://localhost:8080/"
        },
        "id": "iBTX7OrdcfZt",
        "outputId": "3c7fba78-91eb-4fc4-f165-c110032c5660"
      },
      "execution_count": null,
      "outputs": [
        {
          "output_type": "execute_result",
          "data": {
            "text/plain": [
              "tensor([ 9., 36., 81.])"
            ]
          },
          "metadata": {},
          "execution_count": 81
        }
      ]
    },
    {
      "cell_type": "markdown",
      "source": [
        "## Getting information from tensors\n",
        "\n",
        "\n",
        "1.   To get datatype from tensor use - `tensor.dtype`\n",
        "2.   To get shape from a tensor, use - `tensor.shape`\n",
        "3.   To get device from a tensor use - `tensor.device`\n",
        "4. To get the number of elements in a tensor use - tensor.numel"
      ],
      "metadata": {
        "id": "VNN8YmwZc0i4"
      }
    },
    {
      "cell_type": "code",
      "source": [
        "# Create aa tensor\n",
        "some_tensor = torch.rand(3,4)\n",
        "some_tensor"
      ],
      "metadata": {
        "colab": {
          "base_uri": "https://localhost:8080/"
        },
        "id": "whgJvapwci3s",
        "outputId": "118599d3-b6d5-401e-8306-4323252bd67e"
      },
      "execution_count": null,
      "outputs": [
        {
          "output_type": "execute_result",
          "data": {
            "text/plain": [
              "tensor([[0.9482, 0.6431, 0.2992, 0.9379],\n",
              "        [0.7839, 0.2219, 0.3265, 0.0130],\n",
              "        [0.6450, 0.5635, 0.5058, 0.9582]])"
            ]
          },
          "metadata": {},
          "execution_count": 82
        }
      ]
    },
    {
      "cell_type": "code",
      "source": [
        "# Find details about the tensor\n",
        "print(some_tensor)\n",
        "print(f\"Datype of tensor : {some_tensor.dtype}\")\n",
        "print(f\"Shape of tensor : {some_tensor.shape}\")\n",
        "print(f\"Device tensor is on: {some_tensor.device}\") # Default device is cpu\n",
        "\n",
        "num_elements = tensor.numel()\n",
        "print(num_elements)  # Output: 24"
      ],
      "metadata": {
        "colab": {
          "base_uri": "https://localhost:8080/",
          "height": 211
        },
        "id": "EQN4cQu5dUTI",
        "outputId": "c34d74e5-e916-46c7-db8b-2696744c7ac9"
      },
      "execution_count": 1,
      "outputs": [
        {
          "output_type": "error",
          "ename": "NameError",
          "evalue": "name 'some_tensor' is not defined",
          "traceback": [
            "\u001b[0;31m---------------------------------------------------------------------------\u001b[0m",
            "\u001b[0;31mNameError\u001b[0m                                 Traceback (most recent call last)",
            "\u001b[0;32m<ipython-input-1-493e87e1b71e>\u001b[0m in \u001b[0;36m<cell line: 2>\u001b[0;34m()\u001b[0m\n\u001b[1;32m      1\u001b[0m \u001b[0;31m# Find details about the tensor\u001b[0m\u001b[0;34m\u001b[0m\u001b[0;34m\u001b[0m\u001b[0m\n\u001b[0;32m----> 2\u001b[0;31m \u001b[0mprint\u001b[0m\u001b[0;34m(\u001b[0m\u001b[0msome_tensor\u001b[0m\u001b[0;34m)\u001b[0m\u001b[0;34m\u001b[0m\u001b[0;34m\u001b[0m\u001b[0m\n\u001b[0m\u001b[1;32m      3\u001b[0m \u001b[0mprint\u001b[0m\u001b[0;34m(\u001b[0m\u001b[0;34mf\"Datype of tensor : {some_tensor.dtype}\"\u001b[0m\u001b[0;34m)\u001b[0m\u001b[0;34m\u001b[0m\u001b[0;34m\u001b[0m\u001b[0m\n\u001b[1;32m      4\u001b[0m \u001b[0mprint\u001b[0m\u001b[0;34m(\u001b[0m\u001b[0;34mf\"Shape of tensor : {some_tensor.shape}\"\u001b[0m\u001b[0;34m)\u001b[0m\u001b[0;34m\u001b[0m\u001b[0;34m\u001b[0m\u001b[0m\n\u001b[1;32m      5\u001b[0m \u001b[0mprint\u001b[0m\u001b[0;34m(\u001b[0m\u001b[0;34mf\"Device tensor is on: {some_tensor.device}\"\u001b[0m\u001b[0;34m)\u001b[0m \u001b[0;31m# Default device is cpu\u001b[0m\u001b[0;34m\u001b[0m\u001b[0;34m\u001b[0m\u001b[0m\n",
            "\u001b[0;31mNameError\u001b[0m: name 'some_tensor' is not defined"
          ]
        }
      ]
    },
    {
      "cell_type": "markdown",
      "source": [
        "## manipulating Tensors (Tensor operations)\n",
        "\n",
        "Tensor operations include\n",
        "1. Addition\n",
        "2. Subtraction\n",
        "3. Multiplication (element-wise)\n",
        "4. Division\n",
        "5. Matrix Multiplication"
      ],
      "metadata": {
        "id": "xMdkWvWzd7ZG"
      }
    },
    {
      "cell_type": "code",
      "source": [
        "# Create a tensor and add 10 to it\n",
        "tensor = torch.tensor([1,2,3])\n",
        "tensor + 10"
      ],
      "metadata": {
        "colab": {
          "base_uri": "https://localhost:8080/"
        },
        "id": "lVOa4ZrodtPe",
        "outputId": "7f8480ca-4b1e-423e-db59-42f2936f2f42"
      },
      "execution_count": null,
      "outputs": [
        {
          "output_type": "execute_result",
          "data": {
            "text/plain": [
              "tensor([11, 12, 13])"
            ]
          },
          "metadata": {},
          "execution_count": 84
        }
      ]
    },
    {
      "cell_type": "code",
      "source": [
        "# Multiply by 10\n",
        "tensor = torch.tensor([1,2,3])\n",
        "tensor * 10"
      ],
      "metadata": {
        "colab": {
          "base_uri": "https://localhost:8080/"
        },
        "id": "1mqfsy5eeTEK",
        "outputId": "3be56863-a39a-4916-ea57-3352ca156fb6"
      },
      "execution_count": null,
      "outputs": [
        {
          "output_type": "execute_result",
          "data": {
            "text/plain": [
              "tensor([10, 20, 30])"
            ]
          },
          "metadata": {},
          "execution_count": 85
        }
      ]
    },
    {
      "cell_type": "code",
      "source": [
        "# Subtract 10\n",
        "tensor = torch.tensor([1,2,3])\n",
        "tensor - 10"
      ],
      "metadata": {
        "colab": {
          "base_uri": "https://localhost:8080/"
        },
        "id": "2mF_jM9PeXx2",
        "outputId": "78647949-d08a-4232-882e-6ed0bb817c02"
      },
      "execution_count": null,
      "outputs": [
        {
          "output_type": "execute_result",
          "data": {
            "text/plain": [
              "tensor([-9, -8, -7])"
            ]
          },
          "metadata": {},
          "execution_count": 86
        }
      ]
    },
    {
      "cell_type": "code",
      "source": [
        "# try out PyTorch in-built functions like\n",
        "tensor = torch.tensor([1,2,3])\n",
        "tensor.add(10)"
      ],
      "metadata": {
        "colab": {
          "base_uri": "https://localhost:8080/"
        },
        "id": "_YGBN4XSebCr",
        "outputId": "69d76cf2-ae9d-4156-8d5e-bfc3481d6e4c"
      },
      "execution_count": null,
      "outputs": [
        {
          "output_type": "execute_result",
          "data": {
            "text/plain": [
              "tensor([11, 12, 13])"
            ]
          },
          "metadata": {},
          "execution_count": 87
        }
      ]
    },
    {
      "cell_type": "code",
      "source": [
        "tensor.subtract(10)"
      ],
      "metadata": {
        "colab": {
          "base_uri": "https://localhost:8080/"
        },
        "id": "8N0voUKnej0g",
        "outputId": "71981747-aae3-4e83-8151-74175ad914fb"
      },
      "execution_count": null,
      "outputs": [
        {
          "output_type": "execute_result",
          "data": {
            "text/plain": [
              "tensor([-9, -8, -7])"
            ]
          },
          "metadata": {},
          "execution_count": 88
        }
      ]
    },
    {
      "cell_type": "code",
      "source": [
        "tensor.mul(10)"
      ],
      "metadata": {
        "colab": {
          "base_uri": "https://localhost:8080/"
        },
        "id": "AdJjoObYeqfD",
        "outputId": "5bad3092-44c0-4212-e412-7750cdc8bad6"
      },
      "execution_count": null,
      "outputs": [
        {
          "output_type": "execute_result",
          "data": {
            "text/plain": [
              "tensor([10, 20, 30])"
            ]
          },
          "metadata": {},
          "execution_count": 89
        }
      ]
    },
    {
      "cell_type": "code",
      "source": [
        "tensor.div(10)"
      ],
      "metadata": {
        "colab": {
          "base_uri": "https://localhost:8080/"
        },
        "id": "DzFdkbpKe1q0",
        "outputId": "45e61baa-181b-4eba-dbb0-3f1b95baae27"
      },
      "execution_count": null,
      "outputs": [
        {
          "output_type": "execute_result",
          "data": {
            "text/plain": [
              "tensor([0.1000, 0.2000, 0.3000])"
            ]
          },
          "metadata": {},
          "execution_count": 90
        }
      ]
    },
    {
      "cell_type": "markdown",
      "source": [
        "### Matrix multipliation\n",
        "\n",
        "There are two main ways of performing multiplication in neural networks and deep learning\n",
        "1. Element-Wise Multiplication\n",
        "2. Matrix Multiplication\n",
        "\n",
        "There are two main rules that performing matrix multiplication needs to satisfy:\n",
        "1. The inner dimension must match:\n",
        "\n",
        "\n",
        "*   (3, 2) @ (3, 2) won't work\n",
        "* (2, 3) @ (3, 2) will work\n",
        "* (3, 2) @ (2, 3) will work\n",
        "2. The resulting matrix has the shape of the outer dimensions:\n",
        "* (2, 3) @ (3, 2) -> (2, 2)\n",
        "* (3, 2) @ (2, 3) -> (3, 3)\n",
        "\n"
      ],
      "metadata": {
        "id": "uB9300Hoe7ZP"
      }
    },
    {
      "cell_type": "code",
      "source": [
        "# Element wise Multiplication\n",
        "print(tensor, \"*\", tensor)\n",
        "print(f\"Equals: {tensor * tensor}\")"
      ],
      "metadata": {
        "colab": {
          "base_uri": "https://localhost:8080/"
        },
        "id": "Eq6wG213e4bG",
        "outputId": "bb764f74-00bc-4a81-f8f2-e6e3d20465fe"
      },
      "execution_count": null,
      "outputs": [
        {
          "output_type": "stream",
          "name": "stdout",
          "text": [
            "tensor([1, 2, 3]) * tensor([1, 2, 3])\n",
            "Equals: tensor([1, 4, 9])\n"
          ]
        }
      ]
    },
    {
      "cell_type": "code",
      "source": [
        "# Matrix multiplication\n",
        "torch.matmul(tensor, tensor)"
      ],
      "metadata": {
        "colab": {
          "base_uri": "https://localhost:8080/"
        },
        "id": "Ae39gY7IhizY",
        "outputId": "3f9a03b5-b474-4686-f219-b5da8a4688f5"
      },
      "execution_count": null,
      "outputs": [
        {
          "output_type": "execute_result",
          "data": {
            "text/plain": [
              "tensor(14)"
            ]
          },
          "metadata": {},
          "execution_count": 92
        }
      ]
    },
    {
      "cell_type": "code",
      "source": [
        "# Can also use the \"@\" symbol for matrix multiplication, though not recommended\n",
        "tensor @ tensor"
      ],
      "metadata": {
        "colab": {
          "base_uri": "https://localhost:8080/"
        },
        "id": "AfG6pufMitUb",
        "outputId": "72a62d19-92c5-434c-d8f9-3d07bf4dac85"
      },
      "execution_count": null,
      "outputs": [
        {
          "output_type": "execute_result",
          "data": {
            "text/plain": [
              "tensor(14)"
            ]
          },
          "metadata": {},
          "execution_count": 93
        }
      ]
    },
    {
      "cell_type": "code",
      "source": [
        "%%time\n",
        "value = 0\n",
        "for i in range(len(tensor)):\n",
        "  value+=tensor[i] * tensor[i]\n",
        "print(value)"
      ],
      "metadata": {
        "colab": {
          "base_uri": "https://localhost:8080/"
        },
        "id": "n4o3-hHXoPJF",
        "outputId": "4cc8ac7b-216b-46e6-8ff4-fd401ffacb0b"
      },
      "execution_count": null,
      "outputs": [
        {
          "output_type": "stream",
          "name": "stdout",
          "text": [
            "tensor(1)\n",
            "tensor(2)\n",
            "tensor(3)\n",
            "tensor(14)\n",
            "CPU times: user 1.9 ms, sys: 1.97 ms, total: 3.87 ms\n",
            "Wall time: 3.54 ms\n"
          ]
        }
      ]
    },
    {
      "cell_type": "code",
      "source": [
        "%%time\n",
        "torch.matmul(tensor, tensor)"
      ],
      "metadata": {
        "colab": {
          "base_uri": "https://localhost:8080/"
        },
        "id": "f79sl3YCivsM",
        "outputId": "99897654-334a-46b1-b37b-7147ab28ce1c"
      },
      "execution_count": null,
      "outputs": [
        {
          "output_type": "stream",
          "name": "stdout",
          "text": [
            "CPU times: user 413 µs, sys: 0 ns, total: 413 µs\n",
            "Wall time: 374 µs\n"
          ]
        },
        {
          "output_type": "execute_result",
          "data": {
            "text/plain": [
              "tensor(14)"
            ]
          },
          "metadata": {},
          "execution_count": 95
        }
      ]
    },
    {
      "cell_type": "markdown",
      "source": [
        "Using in-built method took way less time in comparison to the traditional multiplication operation. So use PyTorch's in-built methods over calculting stuff manually especially for complex task like matrix multiplication. For operations like Addition, Subtraction, multiplication & Divison you can use either method."
      ],
      "metadata": {
        "id": "OBNn3TBlo0xN"
      }
    },
    {
      "cell_type": "markdown",
      "source": [
        "## Common Error in Deep Learning\n",
        "is size related issues when performing matrix multiplication."
      ],
      "metadata": {
        "id": "p3LFV_O-p8ma"
      }
    },
    {
      "cell_type": "code",
      "source": [
        "torch.matmul(torch.rand(3,2), torch.rand(3,2)) # This won't work because mat1 and mat2 shapes cannot be multiplied (3x2 and 3x2)"
      ],
      "metadata": {
        "colab": {
          "base_uri": "https://localhost:8080/",
          "height": 162
        },
        "id": "s6LWQeD6omDh",
        "outputId": "55aaf512-68f4-44f0-b56b-605aae0458ff"
      },
      "execution_count": null,
      "outputs": [
        {
          "output_type": "error",
          "ename": "RuntimeError",
          "evalue": "mat1 and mat2 shapes cannot be multiplied (3x2 and 3x2)",
          "traceback": [
            "\u001b[0;31m---------------------------------------------------------------------------\u001b[0m",
            "\u001b[0;31mRuntimeError\u001b[0m                              Traceback (most recent call last)",
            "\u001b[0;32m<ipython-input-96-0382d231e8a5>\u001b[0m in \u001b[0;36m<cell line: 1>\u001b[0;34m()\u001b[0m\n\u001b[0;32m----> 1\u001b[0;31m \u001b[0mtorch\u001b[0m\u001b[0;34m.\u001b[0m\u001b[0mmatmul\u001b[0m\u001b[0;34m(\u001b[0m\u001b[0mtorch\u001b[0m\u001b[0;34m.\u001b[0m\u001b[0mrand\u001b[0m\u001b[0;34m(\u001b[0m\u001b[0;36m3\u001b[0m\u001b[0;34m,\u001b[0m\u001b[0;36m2\u001b[0m\u001b[0;34m)\u001b[0m\u001b[0;34m,\u001b[0m \u001b[0mtorch\u001b[0m\u001b[0;34m.\u001b[0m\u001b[0mrand\u001b[0m\u001b[0;34m(\u001b[0m\u001b[0;36m3\u001b[0m\u001b[0;34m,\u001b[0m\u001b[0;36m2\u001b[0m\u001b[0;34m)\u001b[0m\u001b[0;34m)\u001b[0m \u001b[0;31m# This won't work because mat1 and mat2 shapes cannot be multiplied (3x2 and 3x2)\u001b[0m\u001b[0;34m\u001b[0m\u001b[0;34m\u001b[0m\u001b[0m\n\u001b[0m",
            "\u001b[0;31mRuntimeError\u001b[0m: mat1 and mat2 shapes cannot be multiplied (3x2 and 3x2)"
          ]
        }
      ]
    },
    {
      "cell_type": "code",
      "source": [
        "torch.matmul(torch.rand(3,2), torch.rand(2,3)) # This works , the resulting matrix will have a shape of size (3,3)"
      ],
      "metadata": {
        "colab": {
          "base_uri": "https://localhost:8080/"
        },
        "id": "1a9aXQfIqxkR",
        "outputId": "9b395a06-1dc5-423e-bd85-23413353ef49"
      },
      "execution_count": null,
      "outputs": [
        {
          "output_type": "execute_result",
          "data": {
            "text/plain": [
              "tensor([[0.4985, 1.2703, 0.8050],\n",
              "        [0.4298, 1.0142, 0.6960],\n",
              "        [0.4000, 1.1443, 0.6427]])"
            ]
          },
          "metadata": {},
          "execution_count": 97
        }
      ]
    },
    {
      "cell_type": "code",
      "source": [
        "torch.matmul(torch.rand(10,2), torch.rand(2,10)) # This works , the resulting matrix will have a shape of size (10,10)"
      ],
      "metadata": {
        "colab": {
          "base_uri": "https://localhost:8080/"
        },
        "id": "zDnHH_E2q0vp",
        "outputId": "bf66d5f9-dcc0-42c1-f6af-2c8aa0851cc0"
      },
      "execution_count": null,
      "outputs": [
        {
          "output_type": "execute_result",
          "data": {
            "text/plain": [
              "tensor([[0.3207, 0.8155, 0.4252, 0.8848, 0.5950, 0.5874, 0.6665, 0.4291, 0.1264,\n",
              "         0.7808],\n",
              "        [0.3894, 0.1272, 0.0782, 0.3869, 0.5087, 0.4115, 0.6241, 0.5753, 0.2501,\n",
              "         0.3392],\n",
              "        [0.2660, 0.3763, 0.2003, 0.4948, 0.4191, 0.3822, 0.4884, 0.3747, 0.1384,\n",
              "         0.4358],\n",
              "        [0.2861, 0.8736, 0.4535, 0.9057, 0.5670, 0.5751, 0.6259, 0.3736, 0.0964,\n",
              "         0.7996],\n",
              "        [0.2336, 0.2249, 0.1223, 0.3504, 0.3419, 0.2987, 0.4062, 0.3357, 0.1334,\n",
              "         0.3083],\n",
              "        [0.4938, 0.2606, 0.1495, 0.5696, 0.6696, 0.5564, 0.8126, 0.7231, 0.3060,\n",
              "         0.5001],\n",
              "        [0.4257, 0.8703, 0.4566, 1.0054, 0.7373, 0.7055, 0.8392, 0.5830, 0.1916,\n",
              "         0.8867],\n",
              "        [0.4250, 0.9489, 0.4965, 1.0675, 0.7558, 0.7323, 0.8549, 0.5769, 0.1823,\n",
              "         0.9416],\n",
              "        [0.5895, 0.8548, 0.4545, 1.1131, 0.9341, 0.8544, 1.0868, 0.8292, 0.3045,\n",
              "         0.9806],\n",
              "        [0.2024, 0.7272, 0.3762, 0.7277, 0.4281, 0.4450, 0.4662, 0.2574, 0.0560,\n",
              "         0.6427]])"
            ]
          },
          "metadata": {},
          "execution_count": 98
        }
      ]
    },
    {
      "cell_type": "code",
      "source": [
        "# Shapes for Matrix Multiplication\n",
        "\n",
        "tensor_A = torch.tensor([[1,2],\n",
        "                         [3,4],\n",
        "                         [5,6]])\n",
        "\n",
        "tensor_B = torch.tensor([[7,8],\n",
        "                         [9,10],\n",
        "                         [11,12]])\n",
        "\n",
        "torch.mm(tensor_A, tensor_B) # torch.mm() is the same as torch.matmul() (it;s an alias for matmul() method)"
      ],
      "metadata": {
        "colab": {
          "base_uri": "https://localhost:8080/",
          "height": 180
        },
        "id": "pU-9fL4-xNRx",
        "outputId": "67f3770b-bfe2-4df8-a2f0-3f1dcac1e240"
      },
      "execution_count": null,
      "outputs": [
        {
          "output_type": "error",
          "ename": "RuntimeError",
          "evalue": "mat1 and mat2 shapes cannot be multiplied (3x2 and 3x2)",
          "traceback": [
            "\u001b[0;31m---------------------------------------------------------------------------\u001b[0m",
            "\u001b[0;31mRuntimeError\u001b[0m                              Traceback (most recent call last)",
            "\u001b[0;32m<ipython-input-99-762b62c30636>\u001b[0m in \u001b[0;36m<cell line: 11>\u001b[0;34m()\u001b[0m\n\u001b[1;32m      9\u001b[0m                          [11,12]])\n\u001b[1;32m     10\u001b[0m \u001b[0;34m\u001b[0m\u001b[0m\n\u001b[0;32m---> 11\u001b[0;31m \u001b[0mtorch\u001b[0m\u001b[0;34m.\u001b[0m\u001b[0mmm\u001b[0m\u001b[0;34m(\u001b[0m\u001b[0mtensor_A\u001b[0m\u001b[0;34m,\u001b[0m \u001b[0mtensor_B\u001b[0m\u001b[0;34m)\u001b[0m \u001b[0;31m# torch.mm() is the same as torch.matmul() (it;s an alias for matmul() method)\u001b[0m\u001b[0;34m\u001b[0m\u001b[0;34m\u001b[0m\u001b[0m\n\u001b[0m",
            "\u001b[0;31mRuntimeError\u001b[0m: mat1 and mat2 shapes cannot be multiplied (3x2 and 3x2)"
          ]
        }
      ]
    },
    {
      "cell_type": "code",
      "source": [
        "tensor_A.shape, tensor_B.shape"
      ],
      "metadata": {
        "id": "KocFI5DbxzIu"
      },
      "execution_count": null,
      "outputs": []
    },
    {
      "cell_type": "code",
      "source": [
        "# To fix our tensor shape issues we can malitpulate the shape of one of ours tensors using transpose()\n",
        "\n",
        "tensor_B.T"
      ],
      "metadata": {
        "id": "oFqYONaayBHw"
      },
      "execution_count": null,
      "outputs": []
    },
    {
      "cell_type": "code",
      "source": [
        "tensor_B.shape, tensor_B.T.shape"
      ],
      "metadata": {
        "id": "zYeAmll9yeYk"
      },
      "execution_count": null,
      "outputs": []
    },
    {
      "cell_type": "code",
      "source": [
        "torch.matmul(tensor_A, tensor_B.T)"
      ],
      "metadata": {
        "id": "vMHEFnp-yXIy"
      },
      "execution_count": null,
      "outputs": []
    },
    {
      "cell_type": "code",
      "source": [
        "# The operation works when tensor_B is transposed\n",
        "print(f\"Original shapes: tensor_A = {tensor_A.shape}, tensor_B = {tensor_B.shape}\\n\")\n",
        "print(f\"New shapes: tensor_A = {tensor_A.shape} (same as above), tensor_B.T = {tensor_B.T.shape}\\n\")\n",
        "print(f\"Multiplying: {tensor_A.shape} * {tensor_B.T.shape} <- inner dimensions match\\n\")\n",
        "print(\"Output:\\n\")\n",
        "output = torch.matmul(tensor_A, tensor_B.T)\n",
        "print(output)\n",
        "print(f\"\\nOutput shape: {output.shape}\")"
      ],
      "metadata": {
        "id": "yHzJzeaSydLF"
      },
      "execution_count": null,
      "outputs": []
    },
    {
      "cell_type": "code",
      "source": [
        "tensor_A.size() # this is a method , whereas shape is an attribute"
      ],
      "metadata": {
        "id": "uR-svSbwy05d"
      },
      "execution_count": null,
      "outputs": []
    },
    {
      "cell_type": "markdown",
      "source": [
        "# Tensor Aggregation\n"
      ],
      "metadata": {
        "id": "dOtXiPPqzHpn"
      }
    },
    {
      "cell_type": "markdown",
      "source": [
        "## Finding the min, max, mean, sum, etc (tensor aggregation)"
      ],
      "metadata": {
        "id": "7llHXlBNzMnC"
      }
    },
    {
      "cell_type": "code",
      "source": [
        "x = torch.arange(0,100,10)"
      ],
      "metadata": {
        "id": "bcaLrueAzYxU",
        "colab": {
          "base_uri": "https://localhost:8080/",
          "height": 144
        },
        "outputId": "e565b3d1-2e97-4127-e219-51e4296d30bd"
      },
      "execution_count": null,
      "outputs": [
        {
          "output_type": "error",
          "ename": "NameError",
          "evalue": "name 'torch' is not defined",
          "traceback": [
            "\u001b[0;31m---------------------------------------------------------------------------\u001b[0m",
            "\u001b[0;31mNameError\u001b[0m                                 Traceback (most recent call last)",
            "\u001b[0;32m<ipython-input-1-d1c2aeceb033>\u001b[0m in \u001b[0;36m<cell line: 1>\u001b[0;34m()\u001b[0m\n\u001b[0;32m----> 1\u001b[0;31m \u001b[0mx\u001b[0m \u001b[0;34m=\u001b[0m \u001b[0mtorch\u001b[0m\u001b[0;34m.\u001b[0m\u001b[0marange\u001b[0m\u001b[0;34m(\u001b[0m\u001b[0;36m0\u001b[0m\u001b[0;34m,\u001b[0m\u001b[0;36m100\u001b[0m\u001b[0;34m,\u001b[0m\u001b[0;36m10\u001b[0m\u001b[0;34m)\u001b[0m\u001b[0;34m\u001b[0m\u001b[0;34m\u001b[0m\u001b[0m\n\u001b[0m",
            "\u001b[0;31mNameError\u001b[0m: name 'torch' is not defined"
          ]
        }
      ]
    },
    {
      "cell_type": "code",
      "source": [
        "# Find the min\n",
        "torch.min(x), x.min()"
      ],
      "metadata": {
        "id": "sb23NxQBy8gk"
      },
      "execution_count": null,
      "outputs": []
    },
    {
      "cell_type": "code",
      "source": [
        "# Find the max\n",
        "torch.max(x), x.max()"
      ],
      "metadata": {
        "id": "e0TI0x2TzezJ"
      },
      "execution_count": null,
      "outputs": []
    },
    {
      "cell_type": "code",
      "source": [
        "# Finding mean\n",
        "torch.mean(x)\n",
        "\n",
        "# This cell error's out because the tensor x is of datatype long,\n",
        "# however the PyTorch's mean() method needs a tensor of type float32 as it's input,\n",
        "# this is the datatype error that we talked about earlier."
      ],
      "metadata": {
        "id": "m-9Qa1VRziNF"
      },
      "execution_count": null,
      "outputs": []
    },
    {
      "cell_type": "markdown",
      "source": [
        "**Note**: sometimes the documentation doesn't explicitly mention what the datatype of the input should be, we come across these errors during implementation."
      ],
      "metadata": {
        "id": "C4K3srTiz8Qz"
      }
    },
    {
      "cell_type": "code",
      "source": [
        "# Now to fix the error that we got in the prev cell , let's just convert the input matrix 'x' to float32 datatype\n",
        "torch.mean(x.type(torch.float32)), x.type(torch.float32).mean()"
      ],
      "metadata": {
        "id": "RgBD2G-Xz8BR"
      },
      "execution_count": null,
      "outputs": []
    },
    {
      "cell_type": "code",
      "source": [
        "# Find the sum\n",
        "torch.sum(x), x.sum()"
      ],
      "metadata": {
        "id": "FfTZtjSwzl9J"
      },
      "execution_count": null,
      "outputs": []
    },
    {
      "cell_type": "markdown",
      "source": [
        "You can pick either methods shown above for the aggregation operations, they both function the same internally."
      ],
      "metadata": {
        "id": "IX03U6Kp06YV"
      }
    },
    {
      "cell_type": "markdown",
      "source": [
        "# Finding Postional min and max\n",
        "\n",
        "Finding the position in tensor that has the minimum / max value with argmin() -> return index value from the tensor"
      ],
      "metadata": {
        "id": "_MNF1iLV4he0"
      }
    },
    {
      "cell_type": "markdown",
      "source": [
        "You can also find the index of a tensor where the max or minimum occurs with torch.argmax() and torch.argmin() respectively.\n",
        "\n",
        "This is helpful incase you just want the position where the highest (or lowest) value is and not the actual value itself (we'll see this in a later section when using the softmax activation function)."
      ],
      "metadata": {
        "id": "4iolVSgY9Ni9"
      }
    },
    {
      "cell_type": "code",
      "source": [
        "# Create a tensor\n",
        "tensor = torch.arange(10, 100, 10)\n",
        "print(f\"Tensor: {tensor}\")\n",
        "\n",
        "# Returns index of max and min values\n",
        "print(f\"Index where max value occurs: {tensor.argmax()}\")\n",
        "print(f\"Index where min value occurs: {tensor.argmin()}\")"
      ],
      "metadata": {
        "id": "fp8iiiIb05Y-"
      },
      "execution_count": null,
      "outputs": []
    },
    {
      "cell_type": "code",
      "source": [
        "x[9], x[0]"
      ],
      "metadata": {
        "id": "saWHERAl7rE4"
      },
      "execution_count": null,
      "outputs": []
    },
    {
      "cell_type": "markdown",
      "source": [
        "## Reshaping, stacking, squeezing and unsqueezing tensors\n",
        "\n",
        "* Reshaping - reshapes an input tensor to a defined shape\n",
        "* View - Return a view of an input tensor of certain shape but keep the same memory as the original tensor\n",
        "* Stack - Combine multiple tensors on top of each other (vstack) or side by side (hstack)\n",
        "* Squeeze - removes all `1` dimensions from a tensor\n",
        "* unsqueeze - add a `1` dimension to a target tensor\n",
        "* Permute - Return a view of the input with dimensions permuted (swapped) in a certain way"
      ],
      "metadata": {
        "id": "X5ATv1Wg_eFO"
      }
    },
    {
      "cell_type": "code",
      "source": [
        "x = torch.arange(1, 10)\n",
        "x, x.shape"
      ],
      "metadata": {
        "id": "ZN9GMvWU-84x"
      },
      "execution_count": null,
      "outputs": []
    },
    {
      "cell_type": "code",
      "source": [
        "# Add an extra dimension\n",
        "\n",
        "x_reshaped = x.reshape(1,7)\n",
        "x_reshaped, x_reshaped.shape"
      ],
      "metadata": {
        "id": "YwKs1zUnASG8"
      },
      "execution_count": null,
      "outputs": []
    },
    {
      "cell_type": "markdown",
      "source": [
        "Our input is of size 9 , but we mentioned the size (1,7) which is why the code errors out."
      ],
      "metadata": {
        "id": "hromCva2Ak4S"
      }
    },
    {
      "cell_type": "code",
      "source": [
        "x_reshaped = x.reshape(1,9)\n",
        "x_reshaped, x_reshaped.shape\n",
        "\n",
        "# Observe that oe extra dimension will be added"
      ],
      "metadata": {
        "id": "9QCpx-YgAgo3"
      },
      "execution_count": null,
      "outputs": []
    },
    {
      "cell_type": "code",
      "source": [
        "x_reshaped = x.reshape(2,9)\n",
        "x_reshaped, x_reshaped.shape"
      ],
      "metadata": {
        "id": "fOAEddkVAtmr"
      },
      "execution_count": null,
      "outputs": []
    },
    {
      "cell_type": "markdown",
      "source": [
        "This errors out because we are asking PyTorch to reshape to a tensor of dimension of shape 2 x 9, which means we need to get a tensor with 18 elements , however our input has only 1 x 9 i.e 9 elements."
      ],
      "metadata": {
        "id": "w9i92xIlA1VQ"
      }
    },
    {
      "cell_type": "code",
      "source": [
        "x_reshaped = x.reshape(9, 1)\n",
        "x_reshaped, x_reshaped.shape"
      ],
      "metadata": {
        "id": "erwZoTepA0dk"
      },
      "execution_count": null,
      "outputs": []
    },
    {
      "cell_type": "code",
      "source": [
        "x = torch.arange(1,11)\n",
        "x_reshaped = x.reshape(5,2)\n",
        "x_reshaped, x_reshaped.shape"
      ],
      "metadata": {
        "id": "Pq8vdsubBFR5"
      },
      "execution_count": null,
      "outputs": []
    },
    {
      "cell_type": "code",
      "source": [
        "# Change the view\n",
        "z = x.view(1, 10)\n",
        "z, z.shape"
      ],
      "metadata": {
        "id": "-S9TsGC6BVMf"
      },
      "execution_count": null,
      "outputs": []
    },
    {
      "cell_type": "code",
      "source": [
        "# Changing z changes x ( because a view of a tensor shares the same memory as the original input)\n",
        "z[:, 0] = 5\n",
        "z, x"
      ],
      "metadata": {
        "id": "nvKtdVONBbnk"
      },
      "execution_count": null,
      "outputs": []
    },
    {
      "cell_type": "code",
      "source": [
        "# Stack tensors on top of each other.\n",
        "x_stacked = torch.stack([x, x, x, x]) # takes sequence of Tensors as input and concatenates them\n",
        "x_stacked"
      ],
      "metadata": {
        "id": "864LDBnfBw3s"
      },
      "execution_count": null,
      "outputs": []
    },
    {
      "cell_type": "code",
      "source": [
        "x_stacked_vertically = torch.vstack([x, x, x, x]) # takes sequence of Tensors as input and concatenates them vertically\n",
        "x_stacked_vertically"
      ],
      "metadata": {
        "id": "gtGOnUxwCfMw"
      },
      "execution_count": null,
      "outputs": []
    },
    {
      "cell_type": "code",
      "source": [
        "x_stacked_horizotally = torch.hstack([x, x, x, x]) # takes sequence of Tensors as input and concatenates them horizontally\n",
        "x_stacked_horizotally"
      ],
      "metadata": {
        "id": "iey01rm7Ck4g"
      },
      "execution_count": null,
      "outputs": []
    },
    {
      "cell_type": "code",
      "source": [
        "# Stack tensors on top of each other.\n",
        "x_stacked = torch.stack([x, x, x, x], dim = 0) # takes sequence of Tensors as input and concatenates them vertically, same as using vstack()\n",
        "x_stacked"
      ],
      "metadata": {
        "id": "M344ZnZWCwa-"
      },
      "execution_count": null,
      "outputs": []
    },
    {
      "cell_type": "code",
      "source": [
        "# Stack tensors on top of each other.\n",
        "x_stacked = torch.stack([x, x, x, x], dim = 1) # takes sequence of Tensors as input and concatenates them horizontally, same as using vstack()\n",
        "x_stacked"
      ],
      "metadata": {
        "colab": {
          "base_uri": "https://localhost:8080/",
          "height": 198
        },
        "id": "nqZnPhQ2C77B",
        "outputId": "63214b52-cb9f-491f-f5c5-240826485cde"
      },
      "execution_count": null,
      "outputs": [
        {
          "output_type": "error",
          "ename": "NameError",
          "evalue": "name 'x' is not defined",
          "traceback": [
            "\u001b[0;31m---------------------------------------------------------------------------\u001b[0m",
            "\u001b[0;31mNameError\u001b[0m                                 Traceback (most recent call last)",
            "\u001b[0;32m<ipython-input-100-122b780176e5>\u001b[0m in \u001b[0;36m<cell line: 2>\u001b[0;34m()\u001b[0m\n\u001b[1;32m      1\u001b[0m \u001b[0;31m# Stack tensors on top of each other.\u001b[0m\u001b[0;34m\u001b[0m\u001b[0;34m\u001b[0m\u001b[0m\n\u001b[0;32m----> 2\u001b[0;31m \u001b[0mx_stacked\u001b[0m \u001b[0;34m=\u001b[0m \u001b[0mtorch\u001b[0m\u001b[0;34m.\u001b[0m\u001b[0mstack\u001b[0m\u001b[0;34m(\u001b[0m\u001b[0;34m[\u001b[0m\u001b[0mx\u001b[0m\u001b[0;34m,\u001b[0m \u001b[0mx\u001b[0m\u001b[0;34m,\u001b[0m \u001b[0mx\u001b[0m\u001b[0;34m,\u001b[0m \u001b[0mx\u001b[0m\u001b[0;34m]\u001b[0m\u001b[0;34m,\u001b[0m \u001b[0mdim\u001b[0m \u001b[0;34m=\u001b[0m \u001b[0;36m1\u001b[0m\u001b[0;34m)\u001b[0m \u001b[0;31m# takes sequence of Tensors as input and concatenates them horizontally, same as using vstack()\u001b[0m\u001b[0;34m\u001b[0m\u001b[0;34m\u001b[0m\u001b[0m\n\u001b[0m\u001b[1;32m      3\u001b[0m \u001b[0mx_stacked\u001b[0m\u001b[0;34m\u001b[0m\u001b[0;34m\u001b[0m\u001b[0m\n",
            "\u001b[0;31mNameError\u001b[0m: name 'x' is not defined"
          ]
        }
      ]
    },
    {
      "cell_type": "code",
      "source": [
        "# torch.squeeze() -> removes all single dimension from a target tensor\n",
        "x = torch.rand(1, 4)\n",
        "print(f\"Previous Tensor : {x}\")\n",
        "print(f\"Size of Previous Tensor : {x.shape}\")\n",
        "\n",
        "# after applying the squeeze method, one extra dimension is removed\n",
        "x_squeezed = x.squeeze()\n",
        "print(f\"After Squeeze : {x_squeezed}\")\n",
        "print(f\"Size of the squeezed tensor : {x_squeezed.shape}\")"
      ],
      "metadata": {
        "id": "ra2If2eRDEHo"
      },
      "execution_count": null,
      "outputs": []
    },
    {
      "cell_type": "code",
      "source": [
        "# torch.unsqueeze() - adds a single diemnsion to a target tensor at a specific dim (dimension)\n",
        "print(f\"previous Tensor : {x_squeezed}\")\n",
        "print(f\"Size of the previous tensor : {x_squeezed.shape}\")\n",
        "\n",
        "print()\n",
        "\n",
        "# after unsqueeze, with dim = 0\n",
        "x_unsqueezed = x_squeezed.unsqueeze(dim=0)\n",
        "print(f\"After unsqueeze, at dime = 0 : {x_unsqueezed}\")\n",
        "print(f\"Size of the unsqueezed tensor : {x_unsqueezed.shape}\")\n",
        "\n",
        "print()\n",
        "\n",
        "# after unsqueeze, with dim = 1\n",
        "x_unsqueezed = x_squeezed.unsqueeze(dim=1)\n",
        "print(f\"After unsqueeze, at dim = 1: {x_unsqueezed}\")\n",
        "print(f\"Size of the unsqueezed tensor : {x_unsqueezed.shape}\")"
      ],
      "metadata": {
        "id": "mJ993gv_Cj9J"
      },
      "execution_count": null,
      "outputs": []
    },
    {
      "cell_type": "code",
      "source": [
        "# torch.permute - rearranges the dimensions of a target tensor in a specific order\n",
        "x_original = torch.rand(size = (224, 224, 3)) # [height, width, color channel(RGB)]\n",
        "\n",
        "# permute the original tensor to rearrange the axis (or dim) order\n",
        "x_permute = x_original.permute(2, 0 ,1) # Shifts axis 0-> 1, 1->2, 2->0\n",
        "\n",
        "print(f\"Previous shape : {x_original.shape}\")\n",
        "print(f\"new shape : {x_permute.shape}\") # [color channels, height, width]"
      ],
      "metadata": {
        "id": "AxU2unljDfCJ"
      },
      "execution_count": null,
      "outputs": []
    },
    {
      "cell_type": "markdown",
      "source": [
        "**Note:** The permute method Returns a view of the original tensor input, hence both the tensors share the same memory, thus changing one tensor will change the other as well"
      ],
      "metadata": {
        "id": "K4o_6gl1FXLJ"
      }
    },
    {
      "cell_type": "code",
      "source": [
        "print(f\"Before : {x_permute[0,0,0]} {x_original[0,0,0]}\")\n",
        "x_original[0,0,0] = 7211284\n",
        "print(f\"After: {x_permute[0,0,0]} , {x_original[0,0,0]}\")"
      ],
      "metadata": {
        "id": "_6ztCUKOFG1b"
      },
      "execution_count": null,
      "outputs": []
    },
    {
      "cell_type": "markdown",
      "source": [
        "## Indexing (Selecting dara from tensors)\n",
        "Indexing with PyTorch is similar to indexing with NumPy"
      ],
      "metadata": {
        "id": "YnLCwdy9GKZo"
      }
    },
    {
      "cell_type": "code",
      "source": [
        "# Create a tensor\n",
        "import torch\n",
        "x = torch.arange(1, 10).reshape(1,3,3)"
      ],
      "metadata": {
        "id": "azjDI3gVFtxc"
      },
      "execution_count": null,
      "outputs": []
    },
    {
      "cell_type": "code",
      "source": [
        "x, x.shape"
      ],
      "metadata": {
        "id": "0BJ2Sc1NZNmB"
      },
      "execution_count": null,
      "outputs": []
    },
    {
      "cell_type": "code",
      "source": [
        "# Let's index on our new tensor\n",
        "x[0]"
      ],
      "metadata": {
        "id": "EaOBy-oBZOOo"
      },
      "execution_count": null,
      "outputs": []
    },
    {
      "cell_type": "code",
      "source": [
        "# Let's index on the middle brancket (dim = 1)\n",
        "x[0][0]"
      ],
      "metadata": {
        "id": "XtAtsY0KZaG9"
      },
      "execution_count": null,
      "outputs": []
    },
    {
      "cell_type": "code",
      "source": [
        "# Let's index on the inner most brancket (dim = 2)\n",
        "x[0][1][1]\n",
        "\n",
        "# Try x[1][1][1]"
      ],
      "metadata": {
        "id": "2lScgM0LZ42Y"
      },
      "execution_count": null,
      "outputs": []
    },
    {
      "cell_type": "code",
      "source": [
        "# zYou can also use a \":\" to select \"all\" of a target dimension\n",
        "x[:,0]"
      ],
      "metadata": {
        "id": "Khi0kb9PaBfC"
      },
      "execution_count": null,
      "outputs": []
    },
    {
      "cell_type": "code",
      "source": [
        "# Get all values of 0th and 1 st dimensions but only index 1 of 2nd dimension\n",
        "x[:, :, 1]"
      ],
      "metadata": {
        "id": "y8CWYEwtaupk"
      },
      "execution_count": null,
      "outputs": []
    },
    {
      "cell_type": "code",
      "source": [
        "# Get all values of the 0 dimension but only the 1 index value of 1st and 2nd dimension\n",
        "x[:,1,1]"
      ],
      "metadata": {
        "id": "JgXHxIdObC86"
      },
      "execution_count": null,
      "outputs": []
    },
    {
      "cell_type": "code",
      "source": [
        "# Get index 0 of the 0th and 1st dimension and all values of the 2nd dimesnion\n",
        "x[0, 0:]"
      ],
      "metadata": {
        "id": "5B19cnVYbJhw"
      },
      "execution_count": null,
      "outputs": []
    },
    {
      "cell_type": "code",
      "source": [
        "# index on x to return 9\n",
        "x[:,2:,2]"
      ],
      "metadata": {
        "id": "plnBMGAub8Km"
      },
      "execution_count": null,
      "outputs": []
    },
    {
      "cell_type": "code",
      "source": [
        "# index on x to return 3, 6, 9\n",
        "x[:, :, 2]"
      ],
      "metadata": {
        "id": "qeoagxgPcNaj"
      },
      "execution_count": null,
      "outputs": []
    },
    {
      "cell_type": "code",
      "source": [
        "x[1: ]"
      ],
      "metadata": {
        "id": "fpJoNQgb3cCy"
      },
      "execution_count": null,
      "outputs": []
    },
    {
      "cell_type": "markdown",
      "source": [
        "##  pyTorch tensors & NumPy\n",
        "\n",
        "NumPy is a popular scientific Python numerical computing library.\n",
        "And because of this, PyTorch has functionality to interact with it.\n",
        "\n",
        "* Data in NumPy, want in PyTorch tensor i.e we have some input in the form of a Numpy array although we need it in the form of a tensor to perform some deep learning operations on it. Use the method `torch.from_numpy(ndarray)` for this.\n",
        "* PyTorch tensor -> numPy -> `torch.Tensor.numpy()`"
      ],
      "metadata": {
        "id": "mzhTkAl4gr7h"
      }
    },
    {
      "cell_type": "code",
      "source": [
        "# NumPy array to tensor\n",
        "import torch\n",
        "import numpy as np\n",
        "\n",
        "array = np.arange(1.0, 8.0)\n",
        "tensor = torch.from_numpy(array)\n",
        "array, tensor"
      ],
      "metadata": {
        "id": "4Ibs3AIwc4Pq"
      },
      "execution_count": null,
      "outputs": []
    },
    {
      "cell_type": "code",
      "source": [
        "array.dtype # data type of a numpy array is float 64 by default"
      ],
      "metadata": {
        "id": "tLZ6cl5Shnr_"
      },
      "execution_count": null,
      "outputs": []
    },
    {
      "cell_type": "code",
      "source": [
        "torch.dtype # tensor created from the numpy array takes the same datatype as the numpy array"
      ],
      "metadata": {
        "id": "6sSyvomlhtGO"
      },
      "execution_count": null,
      "outputs": []
    },
    {
      "cell_type": "code",
      "source": [
        "torch.arange(1.0 ,5.0).dtype # denotes the default data type of a PyTorch tensor, i.e it's float32"
      ],
      "metadata": {
        "id": "O_Il6G8Bh1KU"
      },
      "execution_count": null,
      "outputs": []
    },
    {
      "cell_type": "markdown",
      "source": [
        "**NOTE:**\n",
        "1. The default numpy data type for floats is float64 so when we converted the numpy array to PyTorch tensor, the tensor refelcts the same data type as the numpy array unless it's pointed otherwise. Even thought the default data type for floats in PyTorch is float 32\n",
        "2. So in case u are converting a NumPy array to tensor keep this in mind."
      ],
      "metadata": {
        "id": "xFpzyWSvh890"
      }
    },
    {
      "cell_type": "code",
      "source": [
        "array = np.arange(1.0, 8.0)\n",
        "tensor = torch.from_numpy(array).type(torch.float32) # converting the numpy arry to to a tensor with data type float 32\n",
        "array, tensor"
      ],
      "metadata": {
        "id": "HkqZCXN4hu5c"
      },
      "execution_count": null,
      "outputs": []
    },
    {
      "cell_type": "code",
      "source": [
        "array.dtype, tensor.dtype"
      ],
      "metadata": {
        "id": "Gk7y3UlLMmRr"
      },
      "execution_count": null,
      "outputs": []
    },
    {
      "cell_type": "code",
      "source": [
        "# Change the value of array, what will this do to `tensor` ?\n",
        "\n",
        "array = array + 1\n",
        "array, tensor"
      ],
      "metadata": {
        "id": "yURf0f0nMtfE"
      },
      "execution_count": null,
      "outputs": []
    },
    {
      "cell_type": "markdown",
      "source": [
        "Changing the value of the array doesn't change the value of the tensor"
      ],
      "metadata": {
        "id": "mdWa4lSZQ4NM"
      }
    },
    {
      "cell_type": "code",
      "source": [
        "tensor = torch.ones(7)\n",
        "numpy_tensor = tensor.numpy()\n",
        "tensor, numpy_tensor"
      ],
      "metadata": {
        "id": "j7TMDSFeQ04u"
      },
      "execution_count": null,
      "outputs": []
    },
    {
      "cell_type": "code",
      "source": [
        "numpy_tensor.dtype"
      ],
      "metadata": {
        "id": "nkuMg2OGRGRL"
      },
      "execution_count": null,
      "outputs": []
    },
    {
      "cell_type": "code",
      "source": [
        "# Change the tensor, what happens to the `numpy_tensor`?\n",
        "tensor = tensor+1\n",
        "tensor, numpy_tensor"
      ],
      "metadata": {
        "id": "egCTLX0qRMZM"
      },
      "execution_count": null,
      "outputs": []
    },
    {
      "cell_type": "markdown",
      "source": [
        "Changing the tensor doesn't change the numpy array hence they don't share the samee memory."
      ],
      "metadata": {
        "id": "RJ7pJtSYR1d0"
      }
    },
    {
      "cell_type": "markdown",
      "source": [
        "## Reproducability(Trying to take the random out of random)\n",
        "\n",
        "In short how a neural network works\n",
        "`start with random number -> tensor operations > update random numbers to try and make them better representations of the data -> again -> again -> again ...`\n",
        "\n",
        "PyTorch's rand() method, generated a random tensor for the given input dimension everytime.\n",
        " To reduce the randomness in neural networks and PyTorch comes the concept of a **random seed**.\n",
        "\n",
        " Essentially what the random seed does is \"flavour the randomness."
      ],
      "metadata": {
        "id": "CPiwkpPJoPHm"
      }
    },
    {
      "cell_type": "code",
      "source": [
        "import torch\n",
        "# Create two random tensors\n",
        "\n",
        "random_tensor_A = torch.rand(3,4)\n",
        "random_tensor_B = torch.rand(3,4)\n",
        "\n",
        "print(random_tensor_A)\n",
        "print(random_tensor_B)\n",
        "print(random_tensor_A == random_tensor_B)"
      ],
      "metadata": {
        "id": "2bCPGpn4R1JD"
      },
      "execution_count": null,
      "outputs": []
    },
    {
      "cell_type": "code",
      "source": [
        "# we make the above tensors reproducable ,as follows\n",
        "\n",
        "import torch\n",
        "\n",
        "# set the random sees, commonly used value is 42\n",
        "# You can set it to any number\n",
        "\n",
        "RANDOM_SEED = 42\n",
        "torch.manual_seed(RANDOM_SEED)\n",
        "random_tensor_C = torch.rand(3,4)\n",
        "\n",
        "torch.manual_seed(RANDOM_SEED)\n",
        "random_tensor_D = torch.rand(3,4)\n",
        "\n",
        "print(random_tensor_C)\n",
        "print(random_tensor_D)\n",
        "print(random_tensor_C == random_tensor_D)"
      ],
      "metadata": {
        "id": "Y6IV8fW-Rz0T"
      },
      "execution_count": null,
      "outputs": []
    },
    {
      "cell_type": "markdown",
      "source": [
        "`torch.manual_seed(RANDOM_SEED)` generally works only  for one block of code, i.e it has to be called everytime, for example if you don't use the manual_seed() method before creating `random_tensor_D`, we'll get two different tensors.\n",
        "\n",
        "**Reference** : https://pytorch.org/docs/stable/notes/randomness.html  \n",
        "This is important for ML and DL."
      ],
      "metadata": {
        "id": "73AiVrzPw2R3"
      }
    },
    {
      "cell_type": "markdown",
      "source": [
        "## Running tensors and PyTorch objects on GPUs\n",
        "\n",
        "GPUs = faster computation on numbers, thanks to CUDA + NVIDIA hardware + PyTorch working behind the scenes to make everything good."
      ],
      "metadata": {
        "id": "gnxl5Sqaxtjo"
      }
    },
    {
      "cell_type": "markdown",
      "source": [
        "## Getting a GPU\n",
        "1. Easiest - use Google colab for a free GPu\n",
        "2. Use your own GPU - takes a little bit of time to setup and requires the investment of purchasing a GPUs, There are a lot of options. - [Read this for more info](https://timdettmers.com/2023/01/30/which-gpu-for-deep-learning/)\n",
        "3. Use Cloud Computing - GCP, AWS, Azure these services allow you to rent computers on the cloud and access them.\n",
        "\n",
        "For 2, 3 PyTorch + GPU drivers (CUDA) takes a little bit of setting up to do this, refer to [PyTorch Setup doc](https://pytorch.org/get-started/locally/)\n",
        "\n"
      ],
      "metadata": {
        "id": "Qyrim3hFyQOM"
      }
    },
    {
      "cell_type": "code",
      "source": [
        "!nvidia-smi"
      ],
      "metadata": {
        "id": "sCZPcOJ20KEG"
      },
      "execution_count": null,
      "outputs": []
    },
    {
      "cell_type": "markdown",
      "source": [
        "## Check for GPU access with PyTorch"
      ],
      "metadata": {
        "id": "SGtg_Sm40dzq"
      }
    },
    {
      "cell_type": "code",
      "source": [
        "import torch\n",
        "torch.cuda.is_available() # cuda is nvidia's programming interface, which allows us to se GPUs"
      ],
      "metadata": {
        "id": "b8JIrAFM0K4u"
      },
      "execution_count": null,
      "outputs": []
    },
    {
      "cell_type": "markdown",
      "source": [
        "# Setup device agnostic code\n",
        "\n",
        "Whenever you use PyTorch you might not always have access to a GPU, hence we would like it to use it if it's availble. This is done as follows."
      ],
      "metadata": {
        "id": "WdnZb2Je05qu"
      }
    },
    {
      "cell_type": "code",
      "source": [
        "device = \"cuda\" if torch.cuda.is_available() else \"cpu\"\n",
        "device"
      ],
      "metadata": {
        "id": "HshS9C4r0yZt"
      },
      "execution_count": null,
      "outputs": []
    },
    {
      "cell_type": "markdown",
      "source": [
        "## Count number of devices"
      ],
      "metadata": {
        "id": "lcbTRuj91Voh"
      }
    },
    {
      "cell_type": "markdown",
      "source": [
        "If you are running huge models , then you might want to run one model on one GPU and another model on another GPU and so on."
      ],
      "metadata": {
        "id": "Br98E3jC1jSB"
      }
    },
    {
      "cell_type": "code",
      "source": [
        "torch.cuda.device_count() # Gives us a count of the number of accessible GPUs"
      ],
      "metadata": {
        "id": "4W3TLB2G1SgT"
      },
      "execution_count": null,
      "outputs": []
    },
    {
      "cell_type": "markdown",
      "source": [
        "## Putting tensors (and models) on the GPU\n",
        "\n",
        "The reason we want our tensors/models on the GPU is because using a GPU results in faster computations"
      ],
      "metadata": {
        "id": "Qf3DRj4JlSkn"
      }
    },
    {
      "cell_type": "code",
      "source": [
        "# Create a tensor (default on the CPU)\n",
        "tensor = torch.tensor([1,2,3])\n",
        "\n",
        "print(tensor, tensor.device)"
      ],
      "metadata": {
        "id": "rPa8kc2x1eEX"
      },
      "execution_count": null,
      "outputs": []
    },
    {
      "cell_type": "code",
      "source": [
        "# Move tensor to GPU (if available)\n",
        "tensor_on_GPU = tensor.to(device)\n",
        "tensor_on_GPU"
      ],
      "metadata": {
        "id": "WNTw-HJVl1Iy"
      },
      "execution_count": null,
      "outputs": []
    },
    {
      "cell_type": "markdown",
      "source": [
        "This output shows the tensor [1, 2, 3] and confirms that it is now on the GPU, specifically on cuda:0 (the first GPU device).\n",
        "So if we have multiple GPU devices, they'll all have different indices."
      ],
      "metadata": {
        "id": "kDFLdOfnnexI"
      }
    },
    {
      "cell_type": "markdown",
      "source": [],
      "metadata": {
        "id": "XyWoACifmq5S"
      }
    },
    {
      "cell_type": "markdown",
      "source": [
        "## Moving tensors back to the CPU\n",
        "\n",
        "If a tensor is on GPU , can't transform it to NumPy"
      ],
      "metadata": {
        "id": "lsVCiyRHmsQ_"
      }
    },
    {
      "cell_type": "code",
      "source": [
        "tensor_on_GPU.numpy()"
      ],
      "metadata": {
        "id": "neFi7aRMmaa_"
      },
      "execution_count": null,
      "outputs": []
    },
    {
      "cell_type": "code",
      "source": [
        "#  To fix the GPU tensor with NumPy issue , we can first set it to the CPU\n",
        "tensor_back_on_cpu = tensor_on_GPU.cpu().numpy()\n",
        "tensor_back_on_cpu"
      ],
      "metadata": {
        "id": "K4lrBW5Om7b2"
      },
      "execution_count": null,
      "outputs": []
    },
    {
      "cell_type": "markdown",
      "source": [
        "## Excercises"
      ],
      "metadata": {
        "id": "9JBAN498n168"
      }
    },
    {
      "cell_type": "markdown",
      "source": [],
      "metadata": {
        "id": "6WH-95fUn6ux"
      }
    },
    {
      "cell_type": "code",
      "source": [],
      "metadata": {
        "id": "ET2quRyfn4-h"
      },
      "execution_count": null,
      "outputs": []
    }
  ]
}